{
 "cells": [
  {
   "cell_type": "markdown",
   "metadata": {},
   "source": [
    "# Instructions:"
   ]
  },
  {
   "cell_type": "markdown",
   "metadata": {
    "heading_collapsed": true
   },
   "source": [
    "## Getting Started\n",
    "In this exercise, we will be using data from `rolling stone's top 500 albums`. We have this data contained in the `data.csv` file. We will be building out the following functions to answer questions and interact with this data.\n",
    "\n",
    "> **remember:** reading from a csv file in python looks like the following:\n",
    "\n",
    "```python \n",
    "import csv\n",
    "\n",
    "    with open(file_name) as f:\n",
    "        # we are using DictReader because we want our information to be in dictionary format.\n",
    "        reader = csv.DictReader(f)\n",
    "        # some more code\n",
    "```\n",
    "\n",
    "Once we have our `reader` reading our file as dictionaries, we want our data to be a list of dictionaries. So, we need to loop through our `reader` and create a list. *hint: list comprehension / for loops are your friend\"\n",
    "\n",
    "```python\n",
    "# our data will look something like this once we have read it and turned it into a list of `OrderedDict`s\n",
    "# don't worry, the ordered dicts look different but we can interact with them the same way we do normal dicts\n",
    "[OrderedDict([('number', '1'), ('year', '1967'), ('album', \"Sgt. Pepper's Lonely Hearts Club Band\"), ('artist', 'The Beatles'), ('genre', 'Rock'), ('subgenre', 'Rock & Roll, Psychedelic Rock')]), OrderedDict([('number', '2'), ('year', '1966'), ('album', 'Pet Sounds'), ('artist', 'The Beach Boys'), ('genre', 'Rock'), ('subgenre', 'Pop Rock, Psychedelic Rock')]), OrderedDict([('number', '3'), ('year', '1966'), ('album', 'Revolver'), ('artist', 'The Beatles'), ('genre', 'Rock'), ('subgenre', 'Psychedelic Rock, Pop Rock')])]\n",
    "```\n",
    "\n",
    "After we have our data formated the way we want it, we can now begin working on defining our functions."
   ]
  },
  {
   "cell_type": "code",
   "execution_count": 128,
   "metadata": {},
   "outputs": [],
   "source": [
    "import csv\n",
    "\n",
    "album_data = 'data.csv'\n",
    "track_data = 'track_data.csv'\n",
    "with open(album_data) as f:\n",
    "        # we are using DictReader because we want our information to be in dictionary format.\n",
    "    reader = csv.DictReader(f)\n",
    "#     [print(row) for row in reader]\n",
    "    album_list = [row for row in reader]"
   ]
  },
  {
   "cell_type": "markdown",
   "metadata": {
    "hidden": true
   },
   "source": [
    "\n",
    "### Functions to build-out:\n",
    "\n",
    "Each of the following functions can be defined in the `functions.py` file. \n",
    "\n",
    "* **Searching functions**\n",
    "  * Find by name - Takes in a string that represents the name of an album. Should return a dictionary with the correct album, or return `None`.\n",
    "  * Find by rank - Takes in a number that represents the rank in the list of top albums and returns the album with that rank. If there is no album with that rank, it returns `None`.\n",
    "  * Find by year - Takes in a number for the year in which an album was released and returns a list of albums that were released in that year. If there are no albums released in the given year, it returns an empty list.\n",
    "  * Find by years - Takes in a start year and end year. Returns a list of all albums that were released on or between the start and end years. If no albums are found for those years, then an empty list is returned. \n",
    "  * Find by ranks - Takes in a start rank and end rank. Returns a list of albums that are ranked between the start and end ranks. If no albums are found for those ranks, then an empty list is returned.\n",
    "* **All functions**\n",
    "  * All titles - Returns a list of titles for each album.\n",
    "  * All artists - Returns a list of artist names for each album.\n",
    "* **Questions to answer / functions**\n",
    "  * Artists with the most albums - Returns the artist with the highest amount of albums on the list of top albums \n",
    "  * Most popular word - Returns the word used most in amongst all album titles\n",
    "  * Histogram of albums by decade - Returns a histogram with each decade pointing to the number of albums released during that decade.\n",
    "  * Histogram by genre - Returns a histogram with each genre pointing to the number of albums that are categorized as being in that genre."
   ]
  },
  {
   "cell_type": "code",
   "execution_count": 129,
   "metadata": {},
   "outputs": [],
   "source": [
    "def find_by_name(album_name, data):\n",
    "    for album in data:\n",
    "        if album['album'] == album_name:\n",
    "            return album\n",
    "#         what if the data is the top 500 songs and instead of 'album' the key is 'name'????\n",
    "#         else:\n",
    "#             album['name'] == album_name:\n",
    "#             return album\n",
    "# find_by_name('Hey Jude', top_500_song_data_formatted)        "
   ]
  },
  {
   "cell_type": "code",
   "execution_count": 130,
   "metadata": {},
   "outputs": [],
   "source": [
    "def find_by_rank(rank, data):\n",
    "    for album in data:\n",
    "        if int(album['number']) == rank:\n",
    "            return album\n",
    "        \n",
    "# find_by_rank(2, album_list)"
   ]
  },
  {
   "cell_type": "code",
   "execution_count": 131,
   "metadata": {},
   "outputs": [],
   "source": [
    "def find_by_year(year, data):\n",
    "    year_albums =[]\n",
    "    for album in data:\n",
    "        if int(album['year']) == year:\n",
    "            year_albums.append(album)\n",
    "    return year_albums\n",
    "# find_by_year(1999, album_list)"
   ]
  },
  {
   "cell_type": "code",
   "execution_count": 132,
   "metadata": {},
   "outputs": [],
   "source": [
    "def find_by_years(start_year, end_year, data):\n",
    "    years = list(range(start_year, end_year +1 ))\n",
    "    years_albums = [] \n",
    "    for year in years:\n",
    "        for album in find_by_year(year, data):\n",
    "            years_albums.append(album)\n",
    "    return years_albums\n",
    "# find_by_years(1990,2001,album_list)"
   ]
  },
  {
   "cell_type": "code",
   "execution_count": 133,
   "metadata": {},
   "outputs": [],
   "source": [
    "def find_by_ranks(start_rank, end_rank, data):\n",
    "    ranks = list(range(start_rank, end_rank +1 ))\n",
    "    rank_albums = [] \n",
    "    for rank in ranks:\n",
    "        rank_albums.append(find_by_rank(rank, data))\n",
    "    return rank_albums\n",
    "# find_by_ranks(1,4, album_list)"
   ]
  },
  {
   "cell_type": "code",
   "execution_count": 134,
   "metadata": {},
   "outputs": [],
   "source": [
    "def all_titles(data):\n",
    "    return [album['album'] for album in data]\n",
    "# all_titles(album_list)"
   ]
  },
  {
   "cell_type": "code",
   "execution_count": 135,
   "metadata": {},
   "outputs": [],
   "source": [
    "def all_artists(data):\n",
    "    return list(set([album['album'] for album in data]))\n",
    "# all_artists(album_list)"
   ]
  },
  {
   "cell_type": "code",
   "execution_count": 230,
   "metadata": {},
   "outputs": [],
   "source": [
    "def artists_with_most_albums(data):\n",
    "    artist_and_album_count = {}\n",
    "    album_artists = [album['artist'] for album in data]\n",
    "    for title in album_artists:\n",
    "        artist_and_album_count[title] = artist_and_album_count.get(title, 0) +1\n",
    "    album_counts = []\n",
    "    for val in artist_and_album_count:\n",
    "        album_counts.append(artist_and_album_count[val])\n",
    "    artists_with_max_value =[]\n",
    "    for artist in artist_and_album_count:\n",
    "        if artist_and_album_count[artist] == max(album_counts):\n",
    "            artists_with_max_value.append(artist)\n",
    "    return artists_with_max_value\n",
    "# artists_with_most_albums(album_list)"
   ]
  },
  {
   "cell_type": "code",
   "execution_count": 137,
   "metadata": {},
   "outputs": [],
   "source": [
    "# def artists_with_most_albumsv2():\n",
    "#     artists_most_album = []\n",
    "#     artists = all_artists()\n",
    "#     x = 0\n",
    "#     count = [0] * len(artists)\n",
    "#     y = 0\n",
    "#     while y < len(artists):\n",
    "#         for album in album_list:\n",
    "#             if album['artist'] == artists[y]:\n",
    "#                 count[y] += 1\n",
    "#         y += 1\n",
    "#     z = 0\n",
    "#     while z < len(artists):\n",
    "#     #     print(artists[z], count[z])\n",
    "#         z += 1\n",
    "#     # print(count.index(max(count)))\n",
    "#     #artist_with_max_albums = artists[count.index(max(count))]\n",
    "#     #print('oh my god the artist with the highest number of albums is: ' + artist_with_max_albums)\n",
    "#     max_albums = (max(count))\n",
    "#     indices_with_max_albums = []\n",
    "#     for count2, ele in enumerate(count):\n",
    "#         if ele == max_albums:\n",
    "#             indices_with_max_albums.append(count2)\n",
    "#     for x in indices_with_max_albums:\n",
    "#         artists_most_album.append(artists[x])\n",
    "#     return artists_most_album\n",
    "# artists_with_most_albumsv2()"
   ]
  },
  {
   "cell_type": "code",
   "execution_count": 169,
   "metadata": {
    "scrolled": false
   },
   "outputs": [],
   "source": [
    "def most_popular_word(data):\n",
    "    album_titles = [album['album'] for album in data]\n",
    "    list_of_words =[]\n",
    "    one_list = []\n",
    "    for title in album_titles:\n",
    "        list_of_words.append(title.lower().replace('(',\"\").replace('\"',\"\").split())\n",
    "        \n",
    "    len_of_albums = list(range(len(list_of_words)))\n",
    "    for i in len_of_albums:\n",
    "        len_of_list = list(range(len(list_of_words[i])))\n",
    "        for i2 in len_of_list:\n",
    "            one_list.append(list_of_words[i][i2])\n",
    "            \n",
    "        \n",
    "    album_words_and_count = {}\n",
    "    for word in one_list:\n",
    "        album_words_and_count[word] = album_words_and_count.get(word, 0) +1\n",
    "        \n",
    "        \n",
    "    counts = list(album_words_and_count.items())\n",
    "    return sorted(counts, key = lambda x: x[1], reverse=True)[:1][0][0]\n",
    "    \n",
    "# most_popular_word(album_list)"
   ]
  },
  {
   "cell_type": "code",
   "execution_count": 139,
   "metadata": {},
   "outputs": [],
   "source": [
    "#  Returns a histogram with each decade pointing to the number of albums released during that decade.\n",
    "def hist_albums_decades(data):\n",
    "    import numpy as np\n",
    "    import matplotlib.pyplot as plt\n",
    "    %matplotlib inline\n",
    "\n",
    "    x = [int(album['year']) for album in data]\n",
    "\n",
    "    plt.figure(figsize=(15,8))\n",
    "    plt.hist(x,\n",
    "        bins=None,\n",
    "        range=None,\n",
    "        density=None,\n",
    "        weights=None,\n",
    "        cumulative=False,\n",
    "        bottom=None,\n",
    "        histtype='bar',\n",
    "        align='mid',\n",
    "        orientation='vertical',\n",
    "        rwidth=None,\n",
    "        log=False,\n",
    "        color=None,\n",
    "        label=None,\n",
    "        stacked=False,\n",
    "        normed=None)\n",
    "    # plt.yticks(range(120,20))\n",
    "\n",
    "    return plt.show()\n",
    "# hist_album_decades(album_list)"
   ]
  },
  {
   "cell_type": "code",
   "execution_count": 140,
   "metadata": {},
   "outputs": [],
   "source": [
    "def hist_genre(data):\n",
    "    import numpy as np\n",
    "    import matplotlib.pyplot as plt\n",
    "    %matplotlib inline\n",
    "    x = [album['genre'] for album in data]\n",
    "    genre_num = len(set(x))\n",
    "\n",
    "    plt.figure(figsize=(15,8))\n",
    "    plt.hist(x,\n",
    "        bins=genre_num,\n",
    "        range=None,\n",
    "        density=None,\n",
    "        weights=None,\n",
    "        cumulative=False,\n",
    "        bottom=None,\n",
    "        histtype='bar',\n",
    "        align='mid',\n",
    "        orientation='vertical',\n",
    "        rwidth=None,\n",
    "        log=False,\n",
    "        color=None,\n",
    "        label=None,\n",
    "        stacked=False,\n",
    "        normed=None)\n",
    "    # plt.yticks(range(120,20))\n",
    "    plt.xticks(rotation=90)\n",
    "    return plt.show()\n",
    "# hist_genre(album_list)"
   ]
  },
  {
   "cell_type": "markdown",
   "metadata": {
    "heading_collapsed": true
   },
   "source": [
    "## Next Steps"
   ]
  },
  {
   "cell_type": "code",
   "execution_count": 141,
   "metadata": {},
   "outputs": [],
   "source": [
    "top_five_hundred_data = open('top-500-songs.txt', 'r')\n",
    "lines = top_five_hundred_data.readlines()\n",
    "# print(lines)"
   ]
  },
  {
   "cell_type": "markdown",
   "metadata": {
    "hidden": true
   },
   "source": [
    "Now that we have our functions querying our Album data, let's compare that data with the top 500 songs. We have another file -- a text file! -- that contains the data we need for the top 500 songs. Reading a text file is pretty similar to reading a csv file, however, it tends to need a bit more massaging to get your data formatted the way you want it.\n",
    "\n",
    "```python\n",
    "    # open the text file in read\n",
    "    text_file = open('top-500-songs.txt', 'r')\n",
    "    # read each line of the text file\n",
    "    # here is where you can print out the lines to your terminal and get an idea \n",
    "    # for how you might think about re-formatting the data\n",
    "    lines = text_file.readlines()\n",
    "\n",
    "    print(lines)\n",
    "    # the output will look something like this:\n",
    "['1\\tLike a Rolling Stone\\tBob Dylan\\t1965\\n', '2\\tSatisfaction\\tThe Rolling Stones\\t1965\\n', '3\\tImagine\\tJohn Lennon\\t1971\\n', \"4\\tWhat's Going On\\tMarvin Gaye\\t1971\\n\", '5\\tRespect\\tAretha Franklin\\t1967\\n', '6\\tGood Vibrations\\tThe Beach Boys\\t1966\\n', '7\\tJohnny B. Goode\\tChuck Berry\\t1958\\n', '8\\tHey Jude\\tThe Beatles\\t1968\\n', ...]\n",
    "```\n",
    "\n",
    "It looks like `\\t` is how the text file is separating each element on a line. So, we need a function that can separate a string into a list. Then we can tell this function on what to split our string (i.e. `\\t`). From there we will have a list of lists that are formatted like the following:\n",
    "```python\n",
    "[\"RANK\", \"NAME\", \"ARTIST\", \"YEAR\"]\n",
    "```\n",
    "We need to use our knowledge of iterating to go through each of these elements and turn them into dictionaries with the keys, \"rank\", \"name\", \"artist\", \"year\", pointing to the appropriate values. So, for song number 1, we want it to look like:\n",
    "```python\n",
    "{'rank': 1, 'name': \"Like a Rolling Stone\", 'artist'\"Bob Dylan\": , 'year': 1965}\n",
    "```\n",
    "\n",
    "Once we have a list of songs that are formatted like the above, we can move on to figuring out which songs are from the top albums and which albums and artists have the most 'top songs'."
   ]
  },
  {
   "cell_type": "code",
   "execution_count": 142,
   "metadata": {},
   "outputs": [],
   "source": [
    "def separate_strings_into_list(list_of_strings):\n",
    "    list_of_songs = [string.replace('\\n',\"\").split('\\t') for string in list_of_strings] \n",
    "    \n",
    "    proper_list_of_dict = [{'number': int(song_info[0]), 'name': song_info[1], 'artist': song_info[2], 'year': int(song_info[3])} for song_info in list_of_songs]\n",
    "    \n",
    "    return proper_list_of_dict\n",
    "top_500_song_data_formatted = separate_strings_into_list(lines)"
   ]
  },
  {
   "cell_type": "markdown",
   "metadata": {
    "hidden": true
   },
   "source": [
    "### Working with the top 500 songs"
   ]
  },
  {
   "cell_type": "code",
   "execution_count": 143,
   "metadata": {},
   "outputs": [],
   "source": [
    "# all_artists(top_500_song_data_formatted)\n",
    "# find_by_rank(2, top_500_song_data_formatted)\n",
    "# find_by_year(2000,top_500_song_data_formatted)\n",
    "# find_by_years(1990,2002,top_500_song_data_formatted)\n",
    "# find_by_ranks(1,4, top_500_song_data_formatted)\n",
    "# find_by_name(\"Like a Rolling Stone\",top_500_song_data_formatted) this one wont work?\n",
    "# all_titles(top_500_song_data_formatted) this wont work bc no key named 'album' what to do???\n",
    "# artists_with_most_albums(top_500_song_data_formatted)\n",
    "# hist_albums_decades(top_500_song_data_formatted)\n",
    "# hist_genre(top_500_song_data_formatted) no key named 'genre' so how to work???\n",
    "# most_popular_word(top_500_song_data_formatted) same error, no key named 'album' how to fix???????????"
   ]
  },
  {
   "cell_type": "markdown",
   "metadata": {
    "hidden": true
   },
   "source": [
    "If we can't already re-use our searching functions (i.e. Find by name, Find by rank, Find by year, Find by years, Find by ranks), all functions (i.e. all titles, all artists), and questions-to-answer functions (i.e. Artists with the most albums (or songs), Most popular word, Histogram by decade, Histogram by genre) with the song data we just formatted, then refactor these functions so that they can be used with either set of data. This is a good practice for ensuring that our code is as reusable and modular as possible, which is important when writing code for any project, especially when it comes time to scale a project. Things are easier to read, and there is less code to worry about (and more importantly there is less code to debug when something goes wrong).\n",
    "\n",
    "Once we have our functions working for both sets of data, we can start writing new functions!\n",
    "\n",
    "Luckily for us, this next dataset is already made for us. We were curious to find out which songs on the top 500 songs overlapped with the top albums and vice versa. So, we created a data set that is a list of dictionaries in JSON format. Each dictionary contains the name of the artist, the album, and the tracks (songs) on that given album. We can use this data to check which songs on the top 500 list are featured on the albums on the top albums list.\n",
    "\n",
    "To load our JSON file we will write:\n",
    "\n",
    "```python\n",
    "import json\n",
    "\n",
    "file = open('track_data.json', 'r')\n",
    "json_data = json.load(file)\n",
    "\n",
    "print(json_data)\n",
    "# output will look like this:\n",
    "[{'artist': 'The Beatles', 'album': \"Sgt. Pepper's Lonely Hearts Club Band\", 'tracks': [\"Sgt. Pepper's Lonely Hearts Club Band - Remix\", 'With A Little Help From My Friends - Remix', 'Lucy In The Sky With Diamonds - Remix', 'Getting Better - Remix', 'Fixing A Hole - Remix', \"She's Leaving Home - Remix\", 'Being For The Benefit Of Mr. Kite! - Remix', 'Within You Without You - Remix', \"When I'm Sixty-Four - Remix\", 'Lovely Rita - Remix', 'Good Morning Good Morning - Remix', \"Sgt. Pepper's Lonely Hearts Club Band (Reprise) - Remix\", 'A Day In The Life - Remix', \"Sgt. Pepper's Lonely Hearts Club Band - Take 9 And Speech\", 'With A Little Help From My Friends - Take 1 / False Start And Take 2 / Instrumental', 'Lucy In The Sky With Diamonds - Take 1', 'Getting Better - Take 1 / Instrumental And Speech At The End', 'Fixing A Hole - Speech And Take 3', \"She's Leaving Home - Take 1 / Instrumental\", 'Being For The Benefit Of Mr. Kite! - Take 4', 'Within You Without You - Take 1 / Indian Instruments', \"When I'm Sixty-Four - Take 2\", 'Lovely Rita - Speech And Take 9', 'Good Morning Good Morning - Take 8', \"Sgt. Pepper's Lonely Hearts Club Band (Reprise) - Speech And Take 8\", 'A Day In The Life - Take 1 With Hums', 'Strawberry Fields Forever - Take 7', 'Strawberry Fields Forever - Take 26', 'Strawberry Fields Forever - Stereo Mix 2015', 'Penny Lane - Take 6 / Instrumental', 'Penny Lane - Stereo Mix 2017']}, {'artist': 'The Beach Boys', 'album': 'Pet Sounds', 'tracks': [\"Wouldn't It Be Nice - Digitally Remastered 96\", 'You Still Believe In Me - Digitally Remastered 96', \"That's Not Me - 1996 Digital Remaster\", \"Don't Talk (Put Your Head On My Shoulder) - 1996 Digital Remaster\", \"I'm Waiting For The Day - Digitally Remastered 96\", \"Let's Go Away For Awhile - Digitally Remastered 96\", 'Sloop John B - 1996 - Remaster', 'God Only Knows - 1997 - Remaster', \"I Know There's An Answer - Digitally Remastered 96\", 'Here Today - Digitally Remastered 96', \"I Just Wasn't Made For These Times - Digitally Remastered 96\", 'Pet Sounds - Digitally Remastered 96', 'Caroline, No - 1996 Digital Remaster', 'Hang On To Your Ego', \"Wouldn't It Be Nice - 2000 - Remaster\", 'You Still Believe In Me - 1996 Digital Remaster', \"That's Not Me - 1996 Digital Remaster\", \"Don't Talk (Put Your Head On My Shoulder) - 1996 Digital Remaster\", \"I'm Waiting For The Day - 1996 Digital Remaster\", \"Let's Go Away For Awhile - 1996 Digital Remaster\", 'Sloop John B - 1996 Digital Remaster', 'God Only Knows - 1996 Digital Remaster', \"I Know There's An Answer - 1996 Digital Remaster\", 'Here Today - 1996 Digital Remaster', \"I Just Wasn't Made For These Times - 1996 Digital Remaster\", 'Pet Sounds - 1996 Digital Remaster', 'Caroline, No - 1996 Digital Remaster']}, {'artist': 'The Beatles', 'album': 'Revolver', 'tracks': ['Taxman - Remastered', 'Eleanor Rigby - Remastered', \"I'm Only Sleeping - Remastered\", 'Love You To - Remastered', 'Here, There And Everywhere - Remastered', 'Yellow Submarine - Remastered', 'She Said She Said - Remastered', 'Good Day Sunshine - Remastered', 'And Your Bird Can Sing - Remastered', 'For No One - Remastered', 'Doctor Robert - Remastered', 'I Want To Tell You - Remastered', 'Got To Get You Into My Life - Remastered', 'Tomorrow Never Knows - Remastered']}, {'artist': 'Bob Dylan', 'album': 'Highway 61 Revisited', 'tracks': ['Like a Rolling Stone', 'Tombstone Blues', 'It Takes a Lot to Laugh, It Takes a Train to Cry', 'From a Buick 6', 'Ballad of a Thin Man', 'Queen Jane Approximately', 'Highway 61 Revisited', \"Just Like Tom Thumb's Blues\", 'Desolation Row']}, ...]\n",
    "```"
   ]
  },
  {
   "cell_type": "code",
   "execution_count": 144,
   "metadata": {},
   "outputs": [],
   "source": [
    "import json\n",
    "\n",
    "file = open('track_data.json', 'r')\n",
    "json_data = json.load(file)\n",
    "\n",
    "# print(json_data)"
   ]
  },
  {
   "cell_type": "markdown",
   "metadata": {
    "hidden": true
   },
   "source": [
    "### Define the following functions:\n",
    "\n",
    "**albumWithMostTopSongs** - returns the name of the artist and album that has that most songs featured on the top 500 songs list\n",
    "\n",
    "**albumsWithTopSongs** - returns a list with the name of only the albums that have tracks featured on the list of top 500 songs\n",
    "\n",
    "**songsThatAreOnTopAlbums** - returns a list with the name of only the songs featured on the list of top albums\n",
    "\n",
    "**top10AlbumsByTopSongs** - returns a histogram with the 10 albums that have the most songs that appear in the top songs list. The album names should point to the number of songs that appear on the top 500 songs list.\n",
    "\n",
    "**topOverallArtist** - Artist featured with the most songs and albums on the two lists. This means that if Brittany Spears had 3 of her albums featured on the top albums listed and 10 of her songs featured on the top songs, she would have a total of 13. The artist with the highest aggregate score would be the top overall artist."
   ]
  },
  {
   "cell_type": "code",
   "execution_count": 210,
   "metadata": {},
   "outputs": [],
   "source": [
    "def albumWithMostTopSongs(top_albums, top_songs, albums_and_songs):\n",
    "#     returns the name of the artist and album that has that most songs featured on the top 500 songs list\n",
    "# Need to clean up the tracks from the json data in order for the below to work properly\n",
    "    all_songs = [songs['name'] for songs in top_songs]\n",
    "    album_song_count =[]\n",
    "    for track in albums_and_songs:\n",
    "        counter = 0\n",
    "        for song in all_songs:\n",
    "            if song in track['tracks']:\n",
    "                counter +=1\n",
    "        album_song_count.append([track['artist'],track['album'], counter])\n",
    "    return sorted(album_song_count, key = lambda x: x[2], reverse=True)[0][:2]\n",
    "# albumWithMostTopSongs(album_list, top_500_song_data_formatted, json_data)"
   ]
  },
  {
   "cell_type": "code",
   "execution_count": 202,
   "metadata": {},
   "outputs": [],
   "source": [
    "def albumsWithTopSongs(top_songs, albums_and_songs):\n",
    "#   returns a list with the name of only the albums that have tracks featured on the list of top 500 songs\n",
    "# Need to clean up the tracks from the json data in order for the below to work properly\n",
    "    all_songs = [songs['name'] for songs in top_songs]\n",
    "    albums =[]\n",
    "    for album in albums_and_songs:\n",
    "        for track in album['tracks']:\n",
    "            if track in all_songs:\n",
    "                albums.append(album['album'])\n",
    "    return list(set(albums))\n",
    "# albumsWithTopSongs(top_500_song_data_formatted, json_data)"
   ]
  },
  {
   "cell_type": "code",
   "execution_count": 200,
   "metadata": {},
   "outputs": [],
   "source": [
    "def songsThatAreOnTopAlbums(top_albums, albums_and_songs):\n",
    "#     returns a list with the name of only the songs featured on the list of top albums\n",
    "    return [album['tracks'] for album in albums_and_songs if album['album'] in all_titles(top_albums)]\n",
    "# return 478 which means some album names have to be cleaned\n",
    "# songsThatAreOnTopAlbums(album_list, json_data)"
   ]
  },
  {
   "cell_type": "code",
   "execution_count": 25,
   "metadata": {},
   "outputs": [],
   "source": [
    "def top10AlbumsByTopSongs(top_songs, albums_and_songs):\n",
    "#     returns a histogram with the 10 albums that have the most songs that appear in the top songs list. The album names should point to the number of songs that appear on the top 500 songs list\n",
    "    pass"
   ]
  },
  {
   "cell_type": "code",
   "execution_count": 234,
   "metadata": {},
   "outputs": [],
   "source": [
    "def topOverallArtist(top_songs, top_albums):\n",
    "#     Artist featured with the most songs and albums on the two lists. This means that if Brittany Spears \n",
    "#     had 3 of her albums featured on the top albums listed and 10 of her songs featured on the top songs, \n",
    "#     she would have a total of 13. The artist with the highest aggregate score would be the top overall artist\n",
    "    big_list = []\n",
    "    artist_and_total_count = {}\n",
    "    album_artists = [album['artist'] for album in top_albums]\n",
    "    song_artists = [song['artist'] for song in top_songs]\n",
    "    big_list.extend(album_artists)\n",
    "    big_list.extend(song_artists)\n",
    "    for artist in big_list:\n",
    "        artist_and_total_count[artist] = artist_and_total_count.get(artist, 0) +1\n",
    "        \n",
    "    artist_counts = []\n",
    "    for val in artist_and_total_count:\n",
    "        artist_counts.append(artist_and_total_count[val])\n",
    "    artists_with_max_value =[]\n",
    "    for artist in artist_and_total_count:\n",
    "        if artist_and_total_count[artist] == max(artist_counts):\n",
    "            artists_with_max_value.append(artist)\n",
    "    return artists_with_max_value\n",
    "# topOverallArtist(top_500_song_data_formatted, album_list)"
   ]
  }
 ],
 "metadata": {
  "kernelspec": {
   "display_name": "Python 3",
   "language": "python",
   "name": "python3"
  },
  "language_info": {
   "codemirror_mode": {
    "name": "ipython",
    "version": 3
   },
   "file_extension": ".py",
   "mimetype": "text/x-python",
   "name": "python",
   "nbconvert_exporter": "python",
   "pygments_lexer": "ipython3",
   "version": "3.7.4"
  },
  "toc": {
   "base_numbering": 1,
   "nav_menu": {},
   "number_sections": false,
   "sideBar": true,
   "skip_h1_title": false,
   "title_cell": "Table of Contents",
   "title_sidebar": "Contents",
   "toc_cell": false,
   "toc_position": {},
   "toc_section_display": true,
   "toc_window_display": true
  }
 },
 "nbformat": 4,
 "nbformat_minor": 2
}
